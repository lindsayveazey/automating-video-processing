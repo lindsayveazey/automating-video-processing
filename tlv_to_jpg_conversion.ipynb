{
 "cells": [
  {
   "cell_type": "markdown",
   "id": "53288bee",
   "metadata": {},
   "source": [
    "### Import modules"
   ]
  },
  {
   "cell_type": "code",
   "execution_count": null,
   "id": "6939672f",
   "metadata": {},
   "outputs": [],
   "source": [
    "import cv2\n",
    "import glob\n",
    "import os\n",
    "import pathlib"
   ]
  },
  {
   "cell_type": "markdown",
   "id": "70c1484c",
   "metadata": {},
   "source": [
    "### Glob all video files"
   ]
  },
  {
   "cell_type": "code",
   "execution_count": null,
   "id": "fa0aca63",
   "metadata": {},
   "outputs": [],
   "source": [
    "path = '/Users/lindsayveazey/path/to/video/directory'"
   ]
  },
  {
   "cell_type": "code",
   "execution_count": null,
   "id": "f37261f2",
   "metadata": {},
   "outputs": [],
   "source": [
    "os.chdir(path)\n",
    "\n",
    "videos = []\n",
    "\n",
    "# glob video files in all directories\n",
    "videos.append(glob.glob('**/*.TLV',recursive = True))\n",
    "videos.append(glob.glob('**/*.tlv',recursive = True))\n",
    "videos.append(glob.glob('**/*.avi',recursive = True))\n",
    "videos.append(glob.glob('**/*.mp4',recursive = True))\n",
    "\n",
    "# flatten sublists\n",
    "videos = [item for sublist in videos for item in sublist]\n",
    "len(videos)"
   ]
  },
  {
   "cell_type": "markdown",
   "id": "662c6489",
   "metadata": {},
   "source": [
    "### Convert files "
   ]
  },
  {
   "cell_type": "code",
   "execution_count": null,
   "id": "732356b1",
   "metadata": {},
   "outputs": [],
   "source": [
    "for video in videos:\n",
    "    vidcap = cv2.VideoCapture(video)\n",
    "    def getFrame(sec):\n",
    "        vidcap.set(cv2.CAP_PROP_POS_MSEC, sec*1000)\n",
    "        hasFrames, image = vidcap.read()\n",
    "        if hasFrames:\n",
    "            name = pathlib.Path(video).stem\n",
    "            cv2.imwrite(name + '_' + str(count) + '.jpg', image)\n",
    "        return hasFrames\n",
    "    sec = 0\n",
    "    frameRate = 1 # 1 frame per second\n",
    "    count = 1\n",
    "    success = getFrame(sec)\n",
    "    while success:\n",
    "        count = count + 1\n",
    "        sec = sec + frameRate\n",
    "        sec = round(sec, 2)\n",
    "        success = getFrame(sec)"
   ]
  }
 ],
 "metadata": {
  "kernelspec": {
   "display_name": "Python 3 (ipykernel)",
   "language": "python",
   "name": "python3"
  },
  "language_info": {
   "codemirror_mode": {
    "name": "ipython",
    "version": 3
   },
   "file_extension": ".py",
   "mimetype": "text/x-python",
   "name": "python",
   "nbconvert_exporter": "python",
   "pygments_lexer": "ipython3",
   "version": "3.9.12"
  }
 },
 "nbformat": 4,
 "nbformat_minor": 5
}
