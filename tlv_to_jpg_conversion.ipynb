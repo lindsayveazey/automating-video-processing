{
 "cells": [
  {
   "cell_type": "markdown",
   "id": "100f526c",
   "metadata": {},
   "source": [
    "This script converts TimeLapseVideo (.tlv extension), .avi, and .mp4 videos to individual .jpg frames.\n",
    "Adapted from [this script](https://ikhushpatel.medium.com/convert-video-to-images-images-to-video-using-opencv-python-db27a128a481)."
   ]
  },
  {
   "cell_type": "markdown",
   "id": "41ea7aa0",
   "metadata": {},
   "source": [
    "### Import modules"
   ]
  },
  {
   "cell_type": "code",
   "execution_count": 1,
   "id": "77b4818f",
   "metadata": {},
   "outputs": [],
   "source": [
    "import cv2\n",
    "import glob\n",
    "import os\n",
    "import pathlib"
   ]
  },
  {
   "cell_type": "markdown",
   "id": "afce4677",
   "metadata": {},
   "source": [
    "### Glob all video files"
   ]
  },
  {
   "cell_type": "code",
   "execution_count": 27,
   "id": "cd2de827",
   "metadata": {},
   "outputs": [],
   "source": [
    "# %ls /Volumes/USB-HDD\n",
    "# for f in glob.glob('/Volumes/USB-HDD/2015/*/*_converted.mp4', \n",
    "#                    recursive=True):\n",
    "#     os.remove(f)"
   ]
  },
  {
   "cell_type": "code",
   "execution_count": 2,
   "id": "b73d87f1",
   "metadata": {},
   "outputs": [],
   "source": [
    "path = '/Users/lindsayveazey/code/automating-video-processing'"
   ]
  },
  {
   "cell_type": "code",
   "execution_count": 3,
   "id": "49c2883d",
   "metadata": {},
   "outputs": [
    {
     "data": {
      "text/plain": [
       "3"
      ]
     },
     "execution_count": 3,
     "metadata": {},
     "output_type": "execute_result"
    }
   ],
   "source": [
    "os.chdir(path)\n",
    "\n",
    "videos = []\n",
    "\n",
    "# glob video files in all directories\n",
    "videos.append(glob.glob('**/*.TLV',recursive = True))\n",
    "videos.append(glob.glob('**/*.tlv',recursive = True))\n",
    "videos.append(glob.glob('**/*.avi',recursive = True))\n",
    "videos.append(glob.glob('**/*.mp4',recursive = True))\n",
    "\n",
    "# flatten sublists\n",
    "videos = [item for sublist in videos for item in sublist]\n",
    "len(videos)"
   ]
  },
  {
   "cell_type": "markdown",
   "id": "84a63ee1",
   "metadata": {},
   "source": [
    "### Convert files "
   ]
  },
  {
   "cell_type": "code",
   "execution_count": 5,
   "id": "d7151979",
   "metadata": {},
   "outputs": [],
   "source": [
    "for video in videos:\n",
    "    vidcap = cv2.VideoCapture(video)\n",
    "    def getFrame(sec):\n",
    "        vidcap.set(cv2.CAP_PROP_POS_MSEC, sec*1000)\n",
    "        hasFrames, image = vidcap.read()\n",
    "        if hasFrames:\n",
    "            name = pathlib.Path(video).stem\n",
    "            cv2.imwrite(name + '_' + str(count) + '.jpg', image)\n",
    "        return hasFrames\n",
    "    sec = 0\n",
    "    frameRate = 1 # 1 frame per second\n",
    "    count = 1\n",
    "    success = getFrame(sec)\n",
    "    while success:\n",
    "        count = count + 1\n",
    "        sec = sec + frameRate\n",
    "        sec = round(sec, 2)\n",
    "        success = getFrame(sec)"
   ]
  }
 ],
 "metadata": {
  "kernelspec": {
   "display_name": "Python 3 (ipykernel)",
   "language": "python",
   "name": "python3"
  },
  "language_info": {
   "codemirror_mode": {
    "name": "ipython",
    "version": 3
   },
   "file_extension": ".py",
   "mimetype": "text/x-python",
   "name": "python",
   "nbconvert_exporter": "python",
   "pygments_lexer": "ipython3",
   "version": "3.9.12"
  }
 },
 "nbformat": 4,
 "nbformat_minor": 5
}
